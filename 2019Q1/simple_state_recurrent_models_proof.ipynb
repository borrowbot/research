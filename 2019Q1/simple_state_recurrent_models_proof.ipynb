{
 "cells": [
  {
   "cell_type": "code",
   "execution_count": 254,
   "metadata": {
    "collapsed": true
   },
   "outputs": [],
   "source": [
    "import plotly.offline as plotly\n",
    "import plotly.graph_objs as go"
   ]
  },
  {
   "cell_type": "code",
   "execution_count": 447,
   "metadata": {
    "collapsed": true
   },
   "outputs": [],
   "source": [
    "import autograd.numpy as np\n",
    "from autograd import grad  \n",
    "import string\n",
    "import math\n",
    "import os\n",
    "import json\n",
    "\n",
    "alphabet = string.printable[:95] + '€£'\n",
    "num_chars = len(alphabet)\n",
    "window_size = 6"
   ]
  },
  {
   "cell_type": "code",
   "execution_count": 193,
   "metadata": {},
   "outputs": [
    {
     "data": {
      "text/html": [
       "<style>.container { width:100% !important; }</style>"
      ],
      "text/plain": [
       "<IPython.core.display.HTML object>"
      ]
     },
     "metadata": {},
     "output_type": "display_data"
    }
   ],
   "source": [
    "from IPython.core.display import display, HTML\n",
    "display(HTML(\"<style>.container { width:100% !important; }</style>\"))"
   ]
  },
  {
   "cell_type": "code",
   "execution_count": 255,
   "metadata": {},
   "outputs": [
    {
     "data": {
      "text/html": [
       "<script>requirejs.config({paths: { 'plotly': ['https://cdn.plot.ly/plotly-latest.min']},});if(!window.Plotly) {{require(['plotly'],function(plotly) {window.Plotly=plotly;});}}</script>"
      ],
      "text/vnd.plotly.v1+html": [
       "<script>requirejs.config({paths: { 'plotly': ['https://cdn.plot.ly/plotly-latest.min']},});if(!window.Plotly) {{require(['plotly'],function(plotly) {window.Plotly=plotly;});}}</script>"
      ]
     },
     "metadata": {},
     "output_type": "display_data"
    }
   ],
   "source": [
    "plotly.init_notebook_mode(connected=True)"
   ]
  },
  {
   "cell_type": "code",
   "execution_count": 1,
   "metadata": {
    "collapsed": true
   },
   "outputs": [],
   "source": [
    "from simple_state_recurrent_model.src.model import load_saved_model"
   ]
  },
  {
   "cell_type": "code",
   "execution_count": 2,
   "metadata": {
    "collapsed": true
   },
   "outputs": [],
   "source": [
    "m = load_saved_model('/home/fwang/projects/project-borrowbot/simple_state_recurrent_model/simple_state_recurrent_model/models/money_detector/money_detection_model_2019-04-07')"
   ]
  },
  {
   "cell_type": "markdown",
   "metadata": {
    "heading_collapsed": true
   },
   "source": [
    "# Model"
   ]
  },
  {
   "cell_type": "code",
   "execution_count": 443,
   "metadata": {
    "collapsed": true,
    "hidden": true
   },
   "outputs": [],
   "source": [
    "class SimpleRecurrentModel(object):\n",
    "    def __init__(self, num_chars, window_size, alphabet, window_shift=0):\n",
    "        self.num_chars = num_chars\n",
    "        self.window_size = window_size\n",
    "        self.alphabet = alphabet\n",
    "        self.window_shift = window_shift\n",
    "        self.weights = np.random.normal(1, size=(num_chars * window_size + 2))\n",
    "        \n",
    "        \n",
    "    def train(self, train_inputs, train_labels, batch_size, learning_rate, steps):\n",
    "        def loss(params, sample_inputs, sample_labels):\n",
    "            output = SimpleRecurrentModel._raw_inference(params, sample_inputs)\n",
    "            return -np.sum(output * sample_labels + (1 - output) * (1 - sample_labels))\n",
    "        loss_grad = grad(loss)\n",
    "        \n",
    "        for _ in range(steps):\n",
    "            sample = np.random.choice(np.arange(formatted_labels.shape[0]), batch_size)\n",
    "            sample_inputs = train_inputs[sample]\n",
    "            sample_labels = train_labels[sample]\n",
    "            self.weights = self.weights - learning_rate * loss_grad(self.weights, sample_inputs, sample_labels)\n",
    "        \n",
    "        \n",
    "    def compute_inference(self, input_str):\n",
    "        last_activation = 0\n",
    "        results = []\n",
    "        \n",
    "        for j in range(len(input_str)):\n",
    "            start_idx, end_idx = self._get_index_ranges(j)\n",
    "            pre_padding, post_padding = self._get_padding(start_idx, end_idx, len(input_str))\n",
    "            vector = self._string_vectorizer(input_str[max(0, start_idx):end_idx])\n",
    "            \n",
    "            last_activation = SimpleRecurrentModel._raw_inference(\n",
    "                self.weights,\n",
    "                np.concatenate((pre_padding, vector, post_padding, [last_activation, 1]))\n",
    "            )\n",
    "            results.append(last_activation)\n",
    "            \n",
    "        return results\n",
    "    \n",
    "    \n",
    "    def _string_vectorizer(self, string):\n",
    "        vector = [\n",
    "            [0 if char != letter else 1 for char in self.alphabet] \n",
    "            for letter in string\n",
    "        ]\n",
    "        return np.array(vector).flatten()\n",
    "\n",
    "    \n",
    "    def _get_index_ranges(self, inference_index):\n",
    "        return inference_index - self.window_shift, inference_index + self.window_size - self.window_shift\n",
    "    \n",
    "    \n",
    "    def _get_padding(self, start_idx, end_idx, len_input_str):\n",
    "        pre_padding = np.zeros(-min(0, start_idx) * len(self.alphabet))\n",
    "        post_padding = np.zeros(max(0, end_idx - len_input_str) * len(self.alphabet))\n",
    "        return pre_padding, post_padding\n",
    "    \n",
    "    \n",
    "    def save(self, file_dir):\n",
    "        if not os.path.exists(file_dir):\n",
    "            os.mkdir(file_dir)\n",
    "\n",
    "        np.save(os.path.join(file_dir, 'weights.npy'), self.weights)\n",
    "\n",
    "        with open(os.path.join(file_dir, 'metadata'), 'w') as f:\n",
    "            json.dump({\n",
    "                'num_chars': self.num_chars,\n",
    "                'window_size': self.window_size,\n",
    "                'alphabet': self.alphabet,\n",
    "                'window_shift': self.window_shift\n",
    "            }, f)\n",
    "    \n",
    "    \n",
    "    @staticmethod\n",
    "    def _raw_inference(params, inputs):\n",
    "        output = np.matmul(inputs, params)\n",
    "        return np.exp(output) / (1 + np.exp(output))"
   ]
  },
  {
   "cell_type": "code",
   "execution_count": 249,
   "metadata": {
    "collapsed": true,
    "hidden": true
   },
   "outputs": [],
   "source": [
    "m = SimpleRecurrentModel(num_chars, window_size, alphabet)"
   ]
  },
  {
   "cell_type": "markdown",
   "metadata": {
    "heading_collapsed": true
   },
   "source": [
    "# Data Assembly"
   ]
  },
  {
   "cell_type": "code",
   "execution_count": 397,
   "metadata": {
    "collapsed": true,
    "hidden": true
   },
   "outputs": [],
   "source": [
    "inputs = [\n",
    "    '[REQ] ($1000 over 2 people?) - (#Gilbert, AZ, USA), (Monthly payments of 125), (PayPal or present post dated checks beginning July 2) - Repay $1250/loan',\n",
    "    '[REQ] (£20) - (#Essex, UK), (£26 on 16th july 2017), (Paypal)',\n",
    "    '[REQ] (1000.00) - (#Saco, Maine, USA), (1250.00 by 9/30/17), (Paypal)',\n",
    "    '[REQ] (3,000) - (#Fort Dodge, Iowa, U.S.), (03/01/18), (PayPal)',\n",
    "    '[REQ] (£20) (MCR uk) , (payback £21 next wednesday) (Paypal)',\n",
    "    '[REQ] ($30) - (#New Orleans, Louisiana, United States), (Later tonight or tomorrow), (Bitcoin)',\n",
    "    '[REQ] (40 cad to get home!) - (Ontario, Canada), (50 cad on July 7th), (Bank Transfer)',\n",
    "    '[REQ] ($25) #kyle, Texas, USA (pay back 6/30/17) (square cash)',\n",
    "    '[REQ] ($1850) (July 10th) (#Homestead, Florida, USA)',\n",
    "    '[REQ] ($11.00 ) - (#Charlotte, Nc, Usa), (repaid by 6/29/17), (paypal)',\n",
    "    '[REQ] (15USD ) - (Sydney, NSW, Australia), (June 8), (Paypal)',\n",
    "    '[REQ] (£6,000 ) - (Brighton, UK), (June 2018), (PayPal)',\n",
    "    '[REQ] (US $2,000 ) - (#Buffalo, New York, USA), (August 31, 2017), (Paypal)',\n",
    "    '[REQ] ($155) - (#Lexington, KY US), ($170.50 on 06/30/17), (PayPal)',\n",
    "    '[REQ] (£160) - (#Manchester, UK), (18/06/16), (Pre-Arranged - paying back £200)',\n",
    "    '[REQ] ($200) - (Chattanooga, TN, US), (7/17/17), (1 payment of $100 and 2 payments of $50)',\n",
    "    '[REQ] ($25), (#panama city, Fl, Usa), (repay $35 on or before Sunday June 11th), (PayPal)',\n",
    "    '[REQ] (#Coventry,Uk) (Paypal or BT) (£100)/$125 payback £125/$150)(01/07/17)',\n",
    "    '[REQ] ($4891) - (#Columbus, GA, USA), (NOV 15, 2019), (Paypal)',\n",
    "    '[REQ] ($550) - (#Macon, GA, USA), ($600 total June 26th $300 and July 9th $300), (Paypal)',\n",
    "    '[REQ] (120.00 ) - (#Tucson, Arizona), (6/16), ($135.90 Pre-Arranged)',\n",
    "    '[REQ] ($1260) - (#Indianapolis, IN, USA), (8/21/17), (Paypal)',\n",
    "    '[REQ]-($700.00) (Queen Creek, Arizona, USA) (payback 1000.00 by August 11th 2017) (Verified PayPal)'\n",
    "]\n",
    "labels =[\n",
    "    [[8, 12], [73, 76], [143, 147]],\n",
    "    [[8, 10], [30, 32]],\n",
    "    [[7, 14], [40, 47]],\n",
    "    [[7, 12]],\n",
    "    [[8, 10], [33, 35]],\n",
    "    [[8, 10]],\n",
    "    [[7, 9], [50, 52]],\n",
    "    [[8, 10]],\n",
    "    [[8, 12]],\n",
    "    [[8, 13]], \n",
    "    [[7, 9]],\n",
    "    [[8, 13]],\n",
    "    [[11, 16]],\n",
    "    [[8, 11], [38, 44]],\n",
    "    [[8, 11], [75, 78]],\n",
    "    [[8, 11], [64, 67], [87, 89]],\n",
    "    [[8, 10], [46, 48]],\n",
    "    [[38, 41], [44, 47], [57, 60], [62, 65]],\n",
    "    [[8, 12]],\n",
    "    [[8, 11], [36, 39], [57, 60], [75, 78]],\n",
    "    [[7, 13], [48, 54]],\n",
    "    [[8, 12]],\n",
    "    [[8, 14], [53, 60]]\n",
    "]"
   ]
  },
  {
   "cell_type": "code",
   "execution_count": 289,
   "metadata": {
    "collapsed": true,
    "hidden": true
   },
   "outputs": [],
   "source": [
    "def assemble_data(model, inputs, labels, output_markers=False):\n",
    "    assert len(inputs) == len(labels)\n",
    "    \n",
    "    formatted_inputs = []\n",
    "    formatted_labels = []\n",
    "    \n",
    "    for i in range(len(inputs)):\n",
    "        last_label = False\n",
    "        for j in range(len(inputs[i])):\n",
    "            start_idx, end_idx = model._get_index_ranges(j)\n",
    "            pre_padding, post_padding = model._get_padding(start_idx, end_idx, len(inputs[i]))\n",
    "            vector = model._string_vectorizer(inputs[i][max(0, start_idx):end_idx])\n",
    "            \n",
    "            formatted_inputs.append(np.concatenate((pre_padding, vector, post_padding, [last_label, 1])))\n",
    "            last_label = any([j >= interval[0] and j < interval[1] for interval in labels[i]])\n",
    "            formatted_labels.append(int(last_label))\n",
    "            \n",
    "            if output_markers:\n",
    "                print(inputs[i][max(0, start_idx):end_idx])\n",
    "                print(int(last_label))\n",
    "            \n",
    "    return np.array(formatted_inputs), np.array(formatted_labels)"
   ]
  },
  {
   "cell_type": "code",
   "execution_count": 398,
   "metadata": {
    "hidden": true,
    "scrolled": true
   },
   "outputs": [
    {
     "name": "stdout",
     "output_type": "stream",
     "text": [
      "1000\n",
      "125\n",
      "1250\n",
      "20\n",
      "26\n",
      "1000.00\n",
      "1250.00\n",
      "3,000\n",
      "20\n",
      "21\n",
      "30\n",
      "40\n",
      "50\n",
      "25\n",
      "1850\n",
      "11.00\n",
      "15\n",
      "6,000\n",
      "2,000\n",
      "155\n",
      "170.50\n",
      "160\n",
      "200\n",
      "200\n",
      "100\n",
      "50\n",
      "25\n",
      "35\n",
      "100\n",
      "125\n",
      "125\n",
      "150\n",
      "4891\n",
      "550\n",
      "600\n",
      "300\n",
      "300\n",
      "120.00\n",
      "135.90\n",
      "1260\n",
      "700.00\n",
      "1000.00\n"
     ]
    }
   ],
   "source": [
    "# checking dataset correctness\n",
    "for i in range(len(inputs)):\n",
    "    for j in range(len(labels[i])):\n",
    "        print(inputs[i][labels[i][j][0]:labels[i][j][1]])"
   ]
  },
  {
   "cell_type": "code",
   "execution_count": 399,
   "metadata": {
    "collapsed": true,
    "hidden": true,
    "scrolled": true
   },
   "outputs": [],
   "source": [
    "formatted_inputs, formatted_labels = assemble_data(m, inputs, labels)"
   ]
  },
  {
   "cell_type": "markdown",
   "metadata": {
    "heading_collapsed": true
   },
   "source": [
    "# Train Model"
   ]
  },
  {
   "cell_type": "code",
   "execution_count": 427,
   "metadata": {
    "collapsed": true,
    "hidden": true
   },
   "outputs": [],
   "source": [
    "m.train(formatted_inputs, formatted_labels, 20, 0.1, 300000)"
   ]
  },
  {
   "cell_type": "code",
   "execution_count": 8,
   "metadata": {
    "hidden": true
   },
   "outputs": [
    {
     "name": "stdout",
     "output_type": "stream",
     "text": [
      "2\n",
      "0\n",
      "0\n",
      "0\n"
     ]
    }
   ],
   "source": [
    "# spot testing the trained model\n",
    "s = 'Hey man, do you have the 2000 you owe me from June 4th? I think thats all thats left from 2017'\n",
    "output = m.compute_inference(s)\n",
    "\n",
    "for i in range(len(s)):\n",
    "    if output[i] > 0.1:\n",
    "        print(s[i])"
   ]
  }
 ],
 "metadata": {
  "kernelspec": {
   "display_name": "Python 3",
   "language": "python",
   "name": "python3"
  },
  "language_info": {
   "codemirror_mode": {
    "name": "ipython",
    "version": 3
   },
   "file_extension": ".py",
   "mimetype": "text/x-python",
   "name": "python",
   "nbconvert_exporter": "python",
   "pygments_lexer": "ipython3",
   "version": "3.6.3"
  }
 },
 "nbformat": 4,
 "nbformat_minor": 2
}
