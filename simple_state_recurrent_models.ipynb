{
 "cells": [
  {
   "cell_type": "code",
   "execution_count": 9,
   "metadata": {},
   "outputs": [],
   "source": [
    "import autograd.numpy as np\n",
    "from autograd import grad  \n",
    "import string\n",
    "import math\n",
    "\n",
    "alphabet = string.printable[:95] + '€£'\n",
    "num_chars = len(alphabet)\n",
    "window_size = 6"
   ]
  },
  {
   "cell_type": "code",
   "execution_count": 193,
   "metadata": {},
   "outputs": [
    {
     "data": {
      "text/html": [
       "<style>.container { width:100% !important; }</style>"
      ],
      "text/plain": [
       "<IPython.core.display.HTML object>"
      ]
     },
     "metadata": {},
     "output_type": "display_data"
    }
   ],
   "source": [
    "from IPython.core.display import display, HTML\n",
    "display(HTML(\"<style>.container { width:100% !important; }</style>\"))"
   ]
  },
  {
   "cell_type": "markdown",
   "metadata": {},
   "source": [
    "# Model"
   ]
  },
  {
   "cell_type": "code",
   "execution_count": 205,
   "metadata": {},
   "outputs": [],
   "source": [
    "class SimpleRecurrentModel(object):\n",
    "    def __init__(self, num_chars, window_size, alphabet):\n",
    "        self.num_chars = num_chars\n",
    "        self.window_size = window_size\n",
    "        self.alphabet = alphabet\n",
    "        self.weights = np.random.normal(1, size=(num_chars * window_size + 2))\n",
    "        \n",
    "        \n",
    "    def train(self, train_inputs, train_labels, batch_size, learning_rate, steps):\n",
    "        def loss(params, sample_inputs, sample_labels):\n",
    "            output = SimpleRecurrentModel._raw_inference(params, sample_inputs)\n",
    "            return -np.sum(output * sample_labels + (1 - output) * (1 - sample_labels))\n",
    "        loss_grad = grad(loss)\n",
    "        \n",
    "        for _ in range(steps):\n",
    "            sample = np.random.choice(np.arange(formatted_labels.shape[0]), batch_size)\n",
    "            sample_inputs = train_inputs[sample]\n",
    "            sample_labels = train_labels[sample]\n",
    "            self.weights = self.weights - learning_rate * loss_grad(self.weights, sample_inputs, sample_labels)\n",
    "        \n",
    "        \n",
    "    def compute_inference(self, input_str):\n",
    "        last_activation = 0\n",
    "        results = []\n",
    "        \n",
    "        for j in range(len(input_str)):\n",
    "            start_idx, end_idx = self._get_index_ranges(j)\n",
    "            pre_padding, post_padding = self._get_padding(start_idx, end_idx, len(input_str))\n",
    "            vector = self._string_vectorizer(input_str[max(0, start_idx):end_idx])\n",
    "            \n",
    "            last_activation = SimpleRecurrentModel._raw_inference(\n",
    "                self.weights,\n",
    "                np.concatenate((pre_padding, vector, post_padding, [last_activation, 1]))\n",
    "            )\n",
    "            results.append(last_activation)\n",
    "            \n",
    "        return results\n",
    "    \n",
    "    \n",
    "    def _string_vectorizer(self, string):\n",
    "        vector = [\n",
    "            [0 if char != letter else 1 for char in self.alphabet] \n",
    "            for letter in string\n",
    "        ]\n",
    "        return np.array(vector).flatten()\n",
    "\n",
    "    \n",
    "    def _get_index_ranges(self, inference_index):\n",
    "        return inference_index - 1, inference_index + self.window_size - 1\n",
    "    \n",
    "    \n",
    "    def _get_padding(self, start_idx, end_idx, len_input_str):\n",
    "        pre_padding = np.zeros(-min(0, start_idx) * len(self.alphabet))\n",
    "        post_padding = np.zeros(max(0, end_idx - len_input_str) * len(self.alphabet))\n",
    "        return pre_padding, post_padding\n",
    "    \n",
    "    \n",
    "    @staticmethod\n",
    "    def _raw_inference(params, inputs):\n",
    "        output = np.matmul(inputs, params)\n",
    "        return np.exp(output) / (1 + np.exp(output))"
   ]
  },
  {
   "cell_type": "code",
   "execution_count": 206,
   "metadata": {
    "collapsed": true
   },
   "outputs": [],
   "source": [
    "m = SimpleRecurrentModel(num_chars, window_size, alphabet)"
   ]
  },
  {
   "cell_type": "markdown",
   "metadata": {},
   "source": [
    "# Data Assembly"
   ]
  },
  {
   "cell_type": "code",
   "execution_count": 93,
   "metadata": {
    "collapsed": true
   },
   "outputs": [],
   "source": [
    "inputs = [\n",
    "    '[REQ] ($1000 over 2 people?) - (#Gilbert, AZ, USA), (Monthly payments of 125), (PayPal or present post dated checks beginning July 2) - Repay $1250/loan',\n",
    "    '[REQ] (£20) - (#Essex, UK), (£26 on 16th july 2017), (Paypal)',\n",
    "    '[REQ] (1000.00) - (#Saco, Maine, USA), (1250.00 by 9/30/17), (Paypal)',\n",
    "    '[REQ] (3,000) - (#Fort Dodge, Iowa, U.S.), (03/01/18), (PayPal)',\n",
    "    '[REQ] (£20) (MCR uk) , (payback £21 next wednesday) (Paypal)',\n",
    "    '[REQ] ($30) - (#New Orleans, Louisiana, United States), (Later tonight or tomorrow), (Bitcoin)',\n",
    "    '[REQ] (40 cad to get home!) - (Ontario, Canada), (50 cad on July 7th), (Bank Transfer)',\n",
    "    '[REQ] ($25) #kyle, Texas, USA (pay back 6/30/17) (square cash)'\n",
    "]\n",
    "labels =[\n",
    "    [[8, 12], [73, 76], [143, 147]],\n",
    "    [[8, 10], [30, 32]],\n",
    "    [[7, 14], [40, 47]],\n",
    "    [[7, 12]],\n",
    "    [[8, 10], [33, 35]],\n",
    "    [[8, 10]],\n",
    "    [[7, 9], [50, 52]],\n",
    "    [[8, 10]]\n",
    "]"
   ]
  },
  {
   "cell_type": "code",
   "execution_count": 194,
   "metadata": {
    "collapsed": true
   },
   "outputs": [],
   "source": [
    "def assemble_data(model, inputs, labels, output_markers=False):\n",
    "    assert len(inputs) == len(labels)\n",
    "    \n",
    "    formatted_inputs = []\n",
    "    formatted_labels = []\n",
    "    \n",
    "    for i in range(len(inputs)):\n",
    "        last_label = False\n",
    "        for j in range(len(inputs[i])):\n",
    "            start_idx, end_idx = model._get_index_ranges(j)\n",
    "            pre_padding, post_padding = model._get_padding(start_idx, end_idx, len(inputs[i]))\n",
    "            vector = model._string_vectorizer(inputs[i][max(0, start_idx):end_idx])\n",
    "            \n",
    "            formatted_inputs.append(np.concatenate((pre_padding, vector, post_padding, [last_label, 1])))\n",
    "            last_label = any([j >= interval[0] and j < interval[1] for interval in labels[i]])\n",
    "            formatted_labels.append(int(last_label))\n",
    "            \n",
    "            if output_markers:\n",
    "                print(inputs[i][max(0, start_idx):end_idx])\n",
    "                print(int(last_label))\n",
    "            \n",
    "    return np.array(formatted_inputs), np.array(formatted_labels)"
   ]
  },
  {
   "cell_type": "code",
   "execution_count": 161,
   "metadata": {},
   "outputs": [
    {
     "name": "stdout",
     "output_type": "stream",
     "text": [
      "1000\n",
      "125\n",
      "1250\n",
      "20\n",
      "26\n",
      "1000.00\n",
      "1250.00\n",
      "3,000\n",
      "20\n",
      "21\n",
      "30\n",
      "40\n",
      "50\n",
      "25\n"
     ]
    }
   ],
   "source": [
    "for i in range(len(inputs)):\n",
    "    for j in range(len(labels[i])):\n",
    "        print(inputs[i][labels[i][j][0]:labels[i][j][1]])"
   ]
  },
  {
   "cell_type": "code",
   "execution_count": 195,
   "metadata": {
    "scrolled": true
   },
   "outputs": [],
   "source": [
    "formatted_inputs, formatted_labels = assemble_data(m, inputs, labels)"
   ]
  },
  {
   "cell_type": "markdown",
   "metadata": {},
   "source": [
    "# Train Model"
   ]
  },
  {
   "cell_type": "code",
   "execution_count": 210,
   "metadata": {
    "collapsed": true
   },
   "outputs": [],
   "source": [
    "m.train(formatted_inputs, formatted_labels, 20, 0.01, 5000)"
   ]
  },
  {
   "cell_type": "code",
   "execution_count": 211,
   "metadata": {},
   "outputs": [
    {
     "data": {
      "text/plain": [
       "array([ 0.21565328, -0.67261704,  1.53750929,  0.17805479,  0.79739138,\n",
       "        0.14884647])"
      ]
     },
     "execution_count": 211,
     "metadata": {},
     "output_type": "execute_result"
    }
   ],
   "source": [
    "m.weights[[i * len(m.alphabet) + m.alphabet.find('/') for i in range(0, 6)]]"
   ]
  },
  {
   "cell_type": "code",
   "execution_count": 213,
   "metadata": {},
   "outputs": [
    {
     "name": "stdout",
     "output_type": "stream",
     "text": [
      "3\n",
      ",\n",
      "0\n",
      "0\n",
      "0\n",
      "0\n"
     ]
    }
   ],
   "source": [
    "s = '[REQ] ($125) - (Toms River, NJ, USA), (06/09/2017 $160), Paypal'\n",
    "s = '[REQ] (3,000) - (#Fort Dodge, Iowa, U.S.), (03/01/18), (PayPal)'\n",
    "output = m.compute_inference(s)\n",
    "\n",
    "for i in range(len(s)):\n",
    "    if output[i] > 0.1:\n",
    "        print(s[i])"
   ]
  },
  {
   "cell_type": "code",
   "execution_count": null,
   "metadata": {
    "collapsed": true
   },
   "outputs": [],
   "source": []
  }
 ],
 "metadata": {
  "kernelspec": {
   "display_name": "Python 3",
   "language": "python",
   "name": "python3"
  },
  "language_info": {
   "codemirror_mode": {
    "name": "ipython",
    "version": 3
   },
   "file_extension": ".py",
   "mimetype": "text/x-python",
   "name": "python",
   "nbconvert_exporter": "python",
   "pygments_lexer": "ipython3",
   "version": "3.6.3"
  }
 },
 "nbformat": 4,
 "nbformat_minor": 2
}
